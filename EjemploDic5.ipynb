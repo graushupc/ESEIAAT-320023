{
 "cells": [
  {
   "cell_type": "markdown",
   "metadata": {},
   "source": [
    "<h3>Ejemplo 1</h3>\n",
    "\n",
    "Un aprovechamiento hidroeléctrico tiene 80 m de altura total y 10 m$^3$/s de caudal. \n",
    "\n",
    "Las pérdidas se reparten de la sigueinte forma:\n",
    "\n",
    "<ul>\n",
    "    <li>Pérdidas es la tubería de presión, $h_4$: 3 m</li>\n",
    "    <li>Pérdidas en la turbina, $h_5$: 4 m</li>\n",
    "    <li>Pérdidas en el tubo de aspiración, $h_6$: 2 m</li>\n",
    "    <li>Otras pérdidas ($h_1 + h_2 + h_3 + h_7$): 11 m</li>\n",
    "</ul>\n",
    "\n",
    "Admitiendo que el grupo turbina generador tiene un rendimiento globlal de 75% , calcular:\n",
    "\n",
    "- Saltos brutos y netos\n",
    "- Rendimeinto de la turbina\n",
    "- Potencia en el eje del generador en CV\n",
    "- Potencia eléctrica disponible de aprovechar"
   ]
  },
  {
   "cell_type": "code",
   "execution_count": 1,
   "metadata": {},
   "outputs": [],
   "source": [
    "# Salto H\n",
    "H = 80 # m\n",
    "# Pérdidas\n",
    "h4 = 3 # m\n",
    "h5 = 4 # m\n",
    "h6 = 2 # m\n",
    "hOtros = 11 # m \n"
   ]
  },
  {
   "cell_type": "markdown",
   "metadata": {},
   "source": [
    "Altura de salto bruto"
   ]
  },
  {
   "cell_type": "code",
   "execution_count": 2,
   "metadata": {},
   "outputs": [
    {
     "name": "stdout",
     "output_type": "stream",
     "text": [
      "H Bruto = 69.0 m\n"
     ]
    }
   ],
   "source": [
    "HBruto = H - hOtros\n",
    "print('H Bruto = %.1f m' % HBruto)"
   ]
  },
  {
   "cell_type": "markdown",
   "metadata": {},
   "source": [
    "Salto neto"
   ]
  },
  {
   "cell_type": "code",
   "execution_count": 4,
   "metadata": {},
   "outputs": [
    {
     "name": "stdout",
     "output_type": "stream",
     "text": [
      "H Neto = 60.0 m\n"
     ]
    }
   ],
   "source": [
    "HNeto = HBruto - (h4 + h5 + h6)\n",
    "print('H Neto = %.1f m' % HNeto)"
   ]
  },
  {
   "cell_type": "markdown",
   "metadata": {},
   "source": [
    "Rendimiento de la turbina"
   ]
  },
  {
   "cell_type": "code",
   "execution_count": 6,
   "metadata": {},
   "outputs": [
    {
     "name": "stdout",
     "output_type": "stream",
     "text": [
      "Rendimiento Turbina, etaTurb = 87.0 %\n"
     ]
    }
   ],
   "source": [
    "etaTurb = HNeto / HBruto * 100\n",
    "print('Rendimiento Turbina, etaTurb = %.1f %%' % etaTurb)"
   ]
  },
  {
   "cell_type": "markdown",
   "metadata": {},
   "source": [
    "Potencia al eje del generador, $$P_m=P_g=\\frac{1000 Q H^{'}}{75} \\eta_T$$"
   ]
  },
  {
   "cell_type": "code",
   "execution_count": 10,
   "metadata": {},
   "outputs": [
    {
     "name": "stdout",
     "output_type": "stream",
     "text": [
      "Pow Gen = 8000.0 CV\n"
     ]
    }
   ],
   "source": [
    "Q = 10 # m^3/s\n",
    "Pgen = (1000 * Q * HBruto) / 75 * etaTurb / 100\n",
    "print('Pow Mot = %.1f CV' % Pgen)"
   ]
  },
  {
   "cell_type": "markdown",
   "metadata": {},
   "source": [
    "Potencia eléctrica posible de aprovechamiento"
   ]
  },
  {
   "cell_type": "code",
   "execution_count": 12,
   "metadata": {},
   "outputs": [
    {
     "name": "stdout",
     "output_type": "stream",
     "text": [
      "Pow Gen = 6880.0 CV\n"
     ]
    }
   ],
   "source": [
    "etaGen = 0.86\n",
    "Pc = Pgen * etaGen\n",
    "print('Pow Gen = %.1f CV' % Pc)"
   ]
  },
  {
   "cell_type": "markdown",
   "metadata": {},
   "source": [
    "Suponiendo que las pérdidas de aspiración anteriores corresponden a un tubo de aspiración cilíndrico, se pretende reducirlas mediante un tubo tronco cónico. De tal manera que se entrega el agua al socaz a una velocidad de 1 m/s.\n",
    "\n",
    "- Cual será la velocidad de salida del rodete si se pretende reducir las pérdidas en 1 m"
   ]
  },
  {
   "cell_type": "markdown",
   "metadata": {},
   "source": [
    "Tubo cilíndrico $$\\frac{V_1^2 - V_2^2}{2 g} = 1$$"
   ]
  },
  {
   "cell_type": "code",
   "execution_count": 15,
   "metadata": {},
   "outputs": [
    {
     "name": "stdout",
     "output_type": "stream",
     "text": [
      "V Rodete = 4.5 m/s\n"
     ]
    }
   ],
   "source": [
    "import math\n",
    "from scipy.constants import g\n",
    "V2 = 1 # velocidad de descarga en el socaz, m/s\n",
    "V1 = math.sqrt( 2 * g + V2**2)\n",
    "print('V Rodete = %.1f m/s' % V1)"
   ]
  },
  {
   "cell_type": "markdown",
   "metadata": {},
   "source": [
    "Para mejorar las pérdidas en el tubo de aspiración ahora se instala uno de sección tronco cónica que guarda una relación de áreas de entrada y salida de 1/3. Volver a realizar el cálculo anterior determinando las velocidades de salida del rodete y en el socaz pero para una recuperación de 2 m."
   ]
  },
  {
   "cell_type": "markdown",
   "metadata": {},
   "source": [
    "$$\\frac{V_1^2 - V_2^2}{2 g} = 2 m$$\n",
    "$$V_2 = \\frac{V_1}{3}$$\n"
   ]
  },
  {
   "cell_type": "code",
   "execution_count": 18,
   "metadata": {},
   "outputs": [
    {
     "name": "stdout",
     "output_type": "stream",
     "text": [
      "V Rodete = 4.7 m/s\n",
      "V Socaz = 1.6 m/s\n"
     ]
    }
   ],
   "source": [
    "V1 = math.sqrt(9 / 4 * g)\n",
    "V2 = V1 / 3\n",
    "print('V Rodete = %.1f m/s' % V1)\n",
    "print('V Socaz = %.1f m/s' % V2)"
   ]
  },
  {
   "cell_type": "code",
   "execution_count": null,
   "metadata": {},
   "outputs": [],
   "source": []
  }
 ],
 "metadata": {
  "kernelspec": {
   "display_name": "Python 3",
   "language": "python",
   "name": "python3"
  },
  "language_info": {
   "codemirror_mode": {
    "name": "ipython",
    "version": 3
   },
   "file_extension": ".py",
   "mimetype": "text/x-python",
   "name": "python",
   "nbconvert_exporter": "python",
   "pygments_lexer": "ipython3",
   "version": "3.7.3"
  }
 },
 "nbformat": 4,
 "nbformat_minor": 4
}

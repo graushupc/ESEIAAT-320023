{
 "cells": [
  {
   "cell_type": "markdown",
   "metadata": {},
   "source": [
    "<h2>Ejemplo de Clase Problemas</h2>\n",
    "<i>G. Raush, Dic 19, 2019, MF@UPC</i>\n",
    "\n",
    "<h3>Enunciado: Ejemplo de Diseño de una turbina</h3>\n",
    "\n",
    "Se desea conocer el tamaño aproximado de un aerogenerador que se desea instalar en una zona con una demanda de 500 kW y la zona tiene unas características de viento y territorio siguiente,\n",
    "\n",
    "| | Valor | Unidad |\n",
    "|-|-------|--------|\n",
    "|$\\alpha$| 0.17 | |\n",
    "|$z_0$|30|m|\n",
    "|c| 7.3 | $m/s$ |\n",
    "|k| 2.2 | |"
   ]
  },
  {
   "cell_type": "code",
   "execution_count": 5,
   "metadata": {},
   "outputs": [],
   "source": [
    "import math\n",
    "import matplotlib.pyplot as plt\n",
    "%matplotlib inline"
   ]
  },
  {
   "cell_type": "markdown",
   "metadata": {},
   "source": [
    "<h4>Valores característicos del viento</h4>\n",
    "\n",
    "Velocidad media estimada por la medida de sus parámetros $$\\left<v\\right>=c\\,\\Gamma\\left(1 + \\frac{1}{k}\\right)$$"
   ]
  },
  {
   "cell_type": "code",
   "execution_count": 6,
   "metadata": {},
   "outputs": [
    {
     "name": "stdout",
     "output_type": "stream",
     "text": [
      "V_avrg =  6.47 m/s\n"
     ]
    }
   ],
   "source": [
    "c = 7.3 # m/s\n",
    "k = 2.2\n",
    "vAvrg = c * math.gamma(1 + 1 / k)\n",
    "print('V_avrg = %5.2f m/s' % vAvrg)"
   ]
  },
  {
   "cell_type": "markdown",
   "metadata": {},
   "source": [
    "Estimación del diámetros mínimo necesario para la potencia demandada. Se debe utilizar el _Coeficiente para la máquina ideal de Betz_, $C_{p,Betz} = 0.59$\n",
    "\n",
    "Potencia demandada $$P = \\frac{1}{2} \\rho\\, C_{p,Betz}\\left(\\frac{\\pi}{4} D_{min}^2 \\right) \\left<v\\right>^3$$"
   ]
  },
  {
   "cell_type": "markdown",
   "metadata": {},
   "source": [
    "El diámetro mínimo,\n",
    "$$D_{min} = \\sqrt{\\frac{8P}{\\pi\\,\\rho\\,C_{p,Betz}\\left<v\\right>^3}}$$"
   ]
  },
  {
   "cell_type": "code",
   "execution_count": 7,
   "metadata": {},
   "outputs": [
    {
     "name": "stdout",
     "output_type": "stream",
     "text": [
      "D_min = 80.6 m\n"
     ]
    }
   ],
   "source": [
    "rhoAir = 1.225 # kg/m³\n",
    "CpBetz = 16/27\n",
    "Pred = 500.e3 # W\n",
    "Dmin = math.sqrt(8 * Pred / (math.pi * rhoAir * CpBetz * vAvrg**3))\n",
    "print('D_min = %.1f m' % Dmin)"
   ]
  },
  {
   "cell_type": "markdown",
   "metadata": {},
   "source": [
    "Para la estimación de la altura hacemos valer la expresión de $$h = a\\,D+b$$ tomando para $a = 0.65$ y $b = 15\\,m$ "
   ]
  },
  {
   "cell_type": "markdown",
   "metadata": {},
   "source": [
    "Altura estimada necesaria para incorporar el _corte del viento_ dentro del cálculo de dimensionado"
   ]
  },
  {
   "cell_type": "code",
   "execution_count": 8,
   "metadata": {},
   "outputs": [
    {
     "name": "stdout",
     "output_type": "stream",
     "text": [
      "h_Buje = 67.37 m\n"
     ]
    }
   ],
   "source": [
    "a = 0.65\n",
    "b = 15 # m\n",
    "hBuje = a * Dmin + b\n",
    "print('h_Buje = %.2f m' % hBuje)"
   ]
  },
  {
   "cell_type": "markdown",
   "metadata": {},
   "source": [
    "Estimación de la velocidad media del viento a la altura del buje usando la ley de la potencia, $$v_{buje}=\\left<v\\right>\\left(\\frac{h_{b}}{z_0}\\right)^\\alpha \\,$$"
   ]
  },
  {
   "cell_type": "code",
   "execution_count": 9,
   "metadata": {},
   "outputs": [
    {
     "name": "stdout",
     "output_type": "stream",
     "text": [
      "v_buje = 7.42 m/s\n"
     ]
    }
   ],
   "source": [
    "z0 = 30 # m\n",
    "alpha = 0.17\n",
    "vBuje = vAvrg * (hBuje / z0)**alpha\n",
    "print('v_buje = %.2f m/s' % vBuje)"
   ]
  },
  {
   "cell_type": "markdown",
   "metadata": {},
   "source": [
    "<h4>Rediseño del diámetro del rotor</h4>\n",
    "\n",
    "Se recalcula el valor del diámetro pero ahora contemplando un calor aproximado de la eficeincia media de la máquina elegida. En este caso estimaremos en $C_p = 0.35$"
   ]
  },
  {
   "cell_type": "code",
   "execution_count": 10,
   "metadata": {},
   "outputs": [
    {
     "name": "stdout",
     "output_type": "stream",
     "text": [
      "D = 85.3 m\n"
     ]
    }
   ],
   "source": [
    "Cp = 0.35\n",
    "D = math.sqrt(8 * Pred / (math.pi * rhoAir * Cp * vBuje**3))\n",
    "print('D = %.1f m' % D)"
   ]
  },
  {
   "cell_type": "markdown",
   "metadata": {},
   "source": [
    "La altura puede ser sorregida pero no cambiará mucho más."
   ]
  },
  {
   "cell_type": "code",
   "execution_count": 11,
   "metadata": {},
   "outputs": [
    {
     "name": "stdout",
     "output_type": "stream",
     "text": [
      "h_Buje = 70.44 m\n"
     ]
    }
   ],
   "source": [
    "hBuje = a * D + b\n",
    "print('h_Buje = %.2f m' % hBuje)"
   ]
  },
  {
   "cell_type": "markdown",
   "metadata": {},
   "source": [
    "Solamente coambió un 3%"
   ]
  },
  {
   "cell_type": "markdown",
   "metadata": {},
   "source": [
    "La potencia total es la deseada pero afectada por la velocidad eficaz del viento que tiene en cuenta la distribución espectral de la potencia del mismo dentro del todo el rango de velocidades medido en la campaña."
   ]
  },
  {
   "cell_type": "markdown",
   "metadata": {},
   "source": [
    "También es importante conocer el valor de la velocidad media eficaz a través del Factor de Potencia,  $$F_e = \\frac{\\Gamma\\left(1 + \\frac{3}{k}\\right)}{\\left[\\Gamma\\left(1 + \\frac{1}{k}\\right)\\right]^3}$$"
   ]
  },
  {
   "cell_type": "code",
   "execution_count": 12,
   "metadata": {},
   "outputs": [
    {
     "name": "stdout",
     "output_type": "stream",
     "text": [
      "Fe = 1.75\n"
     ]
    }
   ],
   "source": [
    "Fe = math.gamma(1 + 3/k) / math.gamma(1 + 1/k)**3\n",
    "print('Fe = %.2f' % Fe)"
   ]
  },
  {
   "cell_type": "markdown",
   "metadata": {},
   "source": [
    "Potencia de capatación en buje del aerogenerador"
   ]
  },
  {
   "cell_type": "code",
   "execution_count": 13,
   "metadata": {},
   "outputs": [
    {
     "name": "stdout",
     "output_type": "stream",
     "text": [
      "Peff = 873.5 kW\n"
     ]
    }
   ],
   "source": [
    "Peff = Fe * Pred\n",
    "print('Peff = %.1f kW' % (Peff*1e-3))"
   ]
  },
  {
   "cell_type": "markdown",
   "metadata": {},
   "source": [
    "<h4>Coeficiente de potencia de la máquina</h4>\n",
    "\n",
    "![Coeficiente de potencia](./CpCurve.png)"
   ]
  },
  {
   "cell_type": "markdown",
   "metadata": {},
   "source": [
    "Suponer que el genarador tiene un número de polos $Z = 2$ y que generará para una red de $f = 50 Hz$, su número de vueltas será,"
   ]
  },
  {
   "cell_type": "code",
   "execution_count": 14,
   "metadata": {},
   "outputs": [
    {
     "name": "stdout",
     "output_type": "stream",
     "text": [
      "ngen = 1500.0 rpm\n"
     ]
    }
   ],
   "source": [
    "f = 50 # Hz\n",
    "Z = 2  # pares de polos\n",
    "nGen = 60 * f / Z # rpm\n",
    "print('ngen = %.1f rpm' % nGen)"
   ]
  },
  {
   "cell_type": "markdown",
   "metadata": {},
   "source": [
    "De la Figura de $C_p$ versus $V$ vemos que lo ideal es que la turbina trabaje en una velocidad de $\\lambda \\in [7.5 ; 12]$ "
   ]
  },
  {
   "cell_type": "markdown",
   "metadata": {},
   "source": [
    "Para un $C_p = 0.5$ le corresponde una velocidad de viento $V = 12 m/s$ aproximadamente. Asumindo un valor $\\lambda = 10$ la velocidad de rotación del rotor, "
   ]
  },
  {
   "cell_type": "code",
   "execution_count": 18,
   "metadata": {},
   "outputs": [
    {
     "name": "stdout",
     "output_type": "stream",
     "text": [
      "n_buje = 16.61 rpm\n"
     ]
    }
   ],
   "source": [
    "lambdaVal = 10\n",
    "omega = lambdaVal * vBuje / (D / 2) \n",
    "nBuje = omega * (60 / 2 / math.pi)\n",
    "print('n_buje = %.2f rpm' % nBuje)"
   ]
  },
  {
   "cell_type": "markdown",
   "metadata": {},
   "source": [
    "El tren de trasnmisión tiene que tener una relación de "
   ]
  },
  {
   "cell_type": "code",
   "execution_count": 19,
   "metadata": {},
   "outputs": [
    {
     "name": "stdout",
     "output_type": "stream",
     "text": [
      "n_ratio = 90.3\n"
     ]
    }
   ],
   "source": [
    "nRatio = nGen / nBuje\n",
    "print('n_ratio = %.1f' % nRatio)"
   ]
  },
  {
   "cell_type": "markdown",
   "metadata": {},
   "source": [
    "<h4>Corrección de la potencia generada</h4>\n",
    "\n",
    "Se supone que el rendimiento del generador es $\\eta = 1$, generador ideal."
   ]
  },
  {
   "cell_type": "code",
   "execution_count": 21,
   "metadata": {},
   "outputs": [
    {
     "name": "stdout",
     "output_type": "stream",
     "text": [
      "Peff = 998.2 kW\n"
     ]
    }
   ],
   "source": [
    "S = math.pi / 4 * D**2\n",
    "Cp = 0.4\n",
    "Peff = 0.5 * rhoAir * S * Cp * Fe * vBuje**3\n",
    "print('Peff = %.1f kW'% (Peff*1.e-3))"
   ]
  },
  {
   "cell_type": "markdown",
   "metadata": {},
   "source": [
    "La energía total aproximada que se puede considerar durante el período de un año es"
   ]
  },
  {
   "cell_type": "code",
   "execution_count": 23,
   "metadata": {},
   "outputs": [
    {
     "name": "stdout",
     "output_type": "stream",
     "text": [
      "E_eff = 8.74 GW-h\n"
     ]
    }
   ],
   "source": [
    "Eeff = Peff * 365 * 24 * 1.e-9\n",
    "print('E_eff = %.2f GW-h' % Eeff)"
   ]
  },
  {
   "cell_type": "code",
   "execution_count": null,
   "metadata": {},
   "outputs": [],
   "source": []
  }
 ],
 "metadata": {
  "kernelspec": {
   "display_name": "Python 3",
   "language": "python",
   "name": "python3"
  },
  "language_info": {
   "codemirror_mode": {
    "name": "ipython",
    "version": 3
   },
   "file_extension": ".py",
   "mimetype": "text/x-python",
   "name": "python",
   "nbconvert_exporter": "python",
   "pygments_lexer": "ipython3",
   "version": "3.7.3"
  }
 },
 "nbformat": 4,
 "nbformat_minor": 4
}

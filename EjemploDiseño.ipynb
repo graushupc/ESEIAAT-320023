{
 "cells": [
  {
   "cell_type": "markdown",
   "metadata": {},
   "source": [
    "<h3>Ejemplo de diseño de un emprendimiento</h3>\n",
    "\n",
    "_G. Raush, MF-UPC, 2019_\n",
    "\n",
    "En un lugar se necesita disponer de una potencia eléctrica de 5800 CV. Para ello se desea aprovechar un salto de agua con una altura de salto bruto de 75 m. Con el propósito de conseguirlo se desea utilizar una turbina hidráulica con un rendimiento del 75%, acoplada a un genrador con un rendimiento de 80%.\n",
    "\n",
    "Se desea conocer:\n",
    "- el caudal de agua necesario\n",
    "- el rendimeinto total de la instalación\n",
    "- la energía producida por el salto en el tiempo de un año, si el caudal se mantiene constante\n",
    "- una estimación del volumen y área de reservorio de la presa para garantizar esa producción continuada \n",
    "\n",
    "<i>Observaciones</i>: Considerar un generados con $Z = 8$ pares de polos para una red de 50 Hz.\n"
   ]
  },
  {
   "cell_type": "code",
   "execution_count": 27,
   "metadata": {},
   "outputs": [],
   "source": [
    "from math import *\n",
    "import sympy as sp\n",
    "import numpy as np\n",
    "import matplotlib.pyplot as plt\n",
    "%matplotlib inline\n",
    "from scipy.constants import g, pi"
   ]
  },
  {
   "cell_type": "code",
   "execution_count": 28,
   "metadata": {},
   "outputs": [],
   "source": [
    "area = lambda x : 0.25 * pi * x**2\n",
    "reynolds = lambda q,d : 4 * q / pi / d *1e6\n",
    "fMoody = lambda e,d,re : 0.25 / (log10(e / d / 3.7 + 5.74 / pow(re,0.9) ))**2"
   ]
  },
  {
   "cell_type": "code",
   "execution_count": 29,
   "metadata": {},
   "outputs": [],
   "source": [
    "rho,Q,Hprima,etaTurb,etaGen = sp.symbols('rho,Q,Hprima,etaTurb,etaGen')"
   ]
  },
  {
   "cell_type": "markdown",
   "metadata": {},
   "source": [
    "<b>Rendimiento del salto</b>\n",
    "\n",
    "$$\\eta_{turb} = \\frac{H^{''}}{H^{'}}$$\n",
    "\n",
    "- $H^{'}$ : altura de salto bruto, m\n",
    "- $H^{''}$ : altura de salto neto, m"
   ]
  },
  {
   "cell_type": "code",
   "execution_count": 30,
   "metadata": {},
   "outputs": [
    {
     "name": "stdout",
     "output_type": "stream",
     "text": [
      "Hprima = 56.25 m\n"
     ]
    }
   ],
   "source": [
    "Hbrute = 75 # m\n",
    "etaTurb = 0.75 \n",
    "Hprima = Hbrute * etaTurb\n",
    "print('Hprima = %.2f m' % Hprima)"
   ]
  },
  {
   "cell_type": "code",
   "execution_count": 31,
   "metadata": {},
   "outputs": [],
   "source": [
    "rho = 1000 # kg/m^3"
   ]
  },
  {
   "cell_type": "code",
   "execution_count": 32,
   "metadata": {},
   "outputs": [],
   "source": [
    "etaGen = 0.80\n",
    "PowElec = 5800 # CV\n",
    "Eq1 = sp.Eq(PowElec, rho * g * Hprima * Q * etaGen / 746)"
   ]
  },
  {
   "cell_type": "code",
   "execution_count": 33,
   "metadata": {},
   "outputs": [
    {
     "data": {
      "text/latex": [
       "$\\displaystyle 5800 = 591.553954423592 Q$"
      ],
      "text/plain": [
       "Eq(5800, 591.553954423592*Q)"
      ]
     },
     "execution_count": 33,
     "metadata": {},
     "output_type": "execute_result"
    }
   ],
   "source": [
    "Eq1"
   ]
  },
  {
   "cell_type": "code",
   "execution_count": 34,
   "metadata": {},
   "outputs": [
    {
     "name": "stdout",
     "output_type": "stream",
     "text": [
      "Caudal turbinado Q = 9.8 m^3/s\n"
     ]
    }
   ],
   "source": [
    "Qnum = sp.solve(Eq1, Q)[0] #.solve(Q)\n",
    "print(\"Caudal turbinado Q = %.1f m^3/s\" % Qnum)"
   ]
  },
  {
   "cell_type": "markdown",
   "metadata": {},
   "source": [
    "<b>Diámetro Óptimo</b>\n",
    "\n",
    "$$D_{o} = \\sqrt[7]{\\frac{26.67 C_E  N Q^{3} \\eta  f \\sigma_S}{g \\pi^{2} \\rho_S C_S T_Y H^{'}  }}$$\n",
    "\n",
    "- $C_E$ : Costo del la enegía en €/W-h\n",
    "- $C_S$ : Costo del acero en €/kg\n",
    "- $N$ : horas anuales, 8760 hr/año\n",
    "- $Q$ : caudal turbinado en $m^3/s$\n",
    "- $H^{'}$ : Altura del salto bruto \n",
    "- $\\eta$ : rendimiento de la instalación\n",
    "- $f$ : factor de fricción de Moody\n",
    "- $\\rho_S$ : densidad del acero, 7800 $kg/m^3$\n",
    "- $\\sigma_S$ : tensión de ruptura del acero, 80 MPa \n",
    "- $T_Y$ : Tasa anual de retorno de la inversión\n"
   ]
  },
  {
   "cell_type": "code",
   "execution_count": 35,
   "metadata": {},
   "outputs": [
    {
     "name": "stdout",
     "output_type": "stream",
     "text": [
      "D = 2.507 m\n"
     ]
    }
   ],
   "source": [
    "Q = Qnum\n",
    "N = 365*24\n",
    "CostoEnergia = 0.01/1000 # kW*hr\n",
    "CostoAcero = 1  # Euros/kg\n",
    "TasaAnualRetorno = 0.05\n",
    "rho = 1000\n",
    "rhoAcero = 7800 # kg/m^3\n",
    "etaGrupo = 1\n",
    "strenghtSteel = 80e6 # MPa\n",
    "f = 0.01 # 0.025\n",
    "avergPress = (Hbrute * rho * g ) * 1.5 # presion media contemplando la posibilidad del golpe de ariete\n",
    "numer = 40 * rho * f * Q**3 * etaGrupo * N * CostoEnergia * strenghtSteel\n",
    "denom = pi**2 * avergPress * rhoAcero * CostoAcero * TasaAnualRetorno\n",
    "ratio = numer / denom\n",
    "D = pow(ratio,1./7.)\n",
    "print(\"D = %.3f m\" % D)\n",
    "   "
   ]
  },
  {
   "cell_type": "code",
   "execution_count": 36,
   "metadata": {},
   "outputs": [
    {
     "name": "stdout",
     "output_type": "stream",
     "text": [
      "V = 2.0 m/s\n"
     ]
    }
   ],
   "source": [
    "V = Qnum / area(D)\n",
    "print(\"V = %.1f m/s\" % V)"
   ]
  },
  {
   "cell_type": "code",
   "execution_count": 37,
   "metadata": {},
   "outputs": [
    {
     "name": "stdout",
     "output_type": "stream",
     "text": [
      "Re = 4979809\n"
     ]
    }
   ],
   "source": [
    "print(\"Re = %0.f\" %reynolds(Qnum,D))"
   ]
  },
  {
   "cell_type": "code",
   "execution_count": 38,
   "metadata": {},
   "outputs": [
    {
     "name": "stdout",
     "output_type": "stream",
     "text": [
      "f = 0.011\n"
     ]
    }
   ],
   "source": [
    "print(\"f = %.3f\" % fMoody(0.1,D*1e3,4e6))"
   ]
  },
  {
   "cell_type": "markdown",
   "metadata": {},
   "source": [
    "**Potencia hidráulica total** $$P_{tot} = \\frac{\\rho g H^{'} Q}{746}$$ en CV "
   ]
  },
  {
   "cell_type": "code",
   "execution_count": 39,
   "metadata": {},
   "outputs": [
    {
     "name": "stdout",
     "output_type": "stream",
     "text": [
      "Pot Total = 9666.7 CV\n"
     ]
    }
   ],
   "source": [
    "PowTot = rho * g * Qnum * Hbrute / 746\n",
    "print(\"Pot Total = %.1f CV\" % PowTot)"
   ]
  },
  {
   "cell_type": "markdown",
   "metadata": {},
   "source": [
    "**Rendimiento Total de la Instalación** $$\\eta = \\frac{P_e}{P_t}$$"
   ]
  },
  {
   "cell_type": "code",
   "execution_count": 40,
   "metadata": {},
   "outputs": [
    {
     "name": "stdout",
     "output_type": "stream",
     "text": [
      "eta = 60.0 %\n"
     ]
    }
   ],
   "source": [
    "eta = PowElec / PowTot\n",
    "print(\"eta = %.1f %%\" % (eta*1e2))"
   ]
  },
  {
   "cell_type": "markdown",
   "metadata": {},
   "source": [
    "<b>Energía anual generada</b>\n",
    "\n",
    "$$W_e = N P_e$$"
   ]
  },
  {
   "cell_type": "code",
   "execution_count": 41,
   "metadata": {},
   "outputs": [
    {
     "name": "stdout",
     "output_type": "stream",
     "text": [
      "Energía anual = 38490909 kW-h\n"
     ]
    }
   ],
   "source": [
    "N = 365 * 24 # horas anuales\n",
    "WElec = N * PowElec / 1.32\n",
    "print(\"Energía anual = %.0f kW-h\" % WElec)"
   ]
  },
  {
   "cell_type": "markdown",
   "metadata": {},
   "source": [
    "<b>Volumen de Agua turbinado</b>\n",
    "\n",
    "$$V = 3600  N  Q$$"
   ]
  },
  {
   "cell_type": "code",
   "execution_count": 42,
   "metadata": {},
   "outputs": [
    {
     "name": "stdout",
     "output_type": "stream",
     "text": [
      "V = 3.09e-01 km³/año\n"
     ]
    }
   ],
   "source": [
    "Vol = 3600 * N * Qnum\n",
    "print(\"V = %.2e km³/año\" % (Vol*(1e-3)**3))"
   ]
  },
  {
   "cell_type": "code",
   "execution_count": 43,
   "metadata": {},
   "outputs": [
    {
     "name": "stdout",
     "output_type": "stream",
     "text": [
      "Area media = 21 km²\n"
     ]
    }
   ],
   "source": [
    "# Profundidad media de un embalse\n",
    "hMed = 15 # m\n",
    "AreaMedia = Vol / hMed\n",
    "print(\"Area media = %.0f km²\" % (AreaMedia * (1e-3)**2))"
   ]
  },
  {
   "cell_type": "markdown",
   "metadata": {},
   "source": [
    "<b>Tipo de máquina</b>\n",
    "\n",
    "Frecuencia de red 50 Hz, número de polos del generador $Z = 8$"
   ]
  },
  {
   "cell_type": "code",
   "execution_count": 44,
   "metadata": {},
   "outputs": [
    {
     "name": "stdout",
     "output_type": "stream",
     "text": [
      "N gen = 375.0 rpm\n"
     ]
    }
   ],
   "source": [
    "fHz = 50 # Hz\n",
    "Z = 8\n",
    "Ngen = 60 * fHz / Z\n",
    "print(\"N gen = %.1f rpm\" % Ngen)"
   ]
  },
  {
   "cell_type": "markdown",
   "metadata": {},
   "source": [
    "Velocidad específica de $n_s = N_{gen} \\frac{\\sqrt{P}}{H \\sqrt[4]{H}}$ \n",
    "\n",
    "- $P$ en CV\n",
    "- $H$ en m\n",
    "- $N_{gen}$ en rpm"
   ]
  },
  {
   "cell_type": "code",
   "execution_count": 45,
   "metadata": {},
   "outputs": [],
   "source": [
    "Ns = Ngen * sqrt(PowTot) / Hprima / Hprima**0.25"
   ]
  },
  {
   "cell_type": "code",
   "execution_count": 46,
   "metadata": {},
   "outputs": [
    {
     "name": "stdout",
     "output_type": "stream",
     "text": [
      "Ns = 239 rpm\n"
     ]
    }
   ],
   "source": [
    "print(\"Ns = %.0f rpm\" % Ns)"
   ]
  },
  {
   "cell_type": "markdown",
   "metadata": {},
   "source": [
    "La turbina adecuada es una con una altura de aspiración de 3 m\n",
    "\n",
    "![grafico_Turbinas](./graficos-Turb_Veloc-Especif-EjemploDesign.png)"
   ]
  },
  {
   "cell_type": "code",
   "execution_count": null,
   "metadata": {},
   "outputs": [],
   "source": []
  }
 ],
 "metadata": {
  "kernelspec": {
   "display_name": "Python 3",
   "language": "python",
   "name": "python3"
  },
  "language_info": {
   "codemirror_mode": {
    "name": "ipython",
    "version": 3
   },
   "file_extension": ".py",
   "mimetype": "text/x-python",
   "name": "python",
   "nbconvert_exporter": "python",
   "pygments_lexer": "ipython3",
   "version": "3.7.3"
  }
 },
 "nbformat": 4,
 "nbformat_minor": 4
}

{
 "cells": [
  {
   "cell_type": "markdown",
   "metadata": {},
   "source": [
    "## Ejemplo de una Central Real\n",
    "\n",
    "Caso ejemplo de la [central hidroeléctrica de Aldedávila](https://es.wikipedia.org/wiki/Presa_de_Aldead%C3%A1vila), sobre el rio Duero. \n",
    "\n",
    "Salto bruto en la central $H' = 140\\, m$ consumo aproximado es de $615\\, m^3/s$, la potencia mecánica total $750 \\,MW$, el número de turbinas $n_{turb} = 6$. Los alternadores tienen $Z = 16$ pares de polos y la potencia eléctrica de cada uno de ellos es de $120\\,MW$, para una  frecuencia de generación de  $50\\,Hz$. Las tuberias forzadas tienen un diámetro de  $D = 5\\, m$ con una longitud de $184\\, m$ y se puede considerar un coeficiente de fricción $f = 0.04$. Las pérdidas y accidentes de flujo pueden considerarse con una longitud equivalente $L_{eq} = 55 \\,m$.\n",
    "\n",
    "Calcular:\n",
    "- Salto neto\n",
    "- Potencia hidráulica\n",
    "- Rendimeinto de la instalación\n",
    "- Rendimiento de la generación\n",
    "- Calcular el número de velocidad específica de las turbinas, $n_s$\n",
    "- Tipo de turbina se adapta para las condiciones de instalación"
   ]
  },
  {
   "cell_type": "code",
   "execution_count": 16,
   "metadata": {},
   "outputs": [],
   "source": [
    "from scipy.constants import g\n",
    "from math import *"
   ]
  },
  {
   "cell_type": "code",
   "execution_count": 17,
   "metadata": {},
   "outputs": [],
   "source": [
    "HBruto = 140 # m, H'\n",
    "Q = 615 # m^3/s\n",
    "PowMec = 750 # Mw\n",
    "PowGen = 120 # MW"
   ]
  },
  {
   "cell_type": "code",
   "execution_count": 18,
   "metadata": {},
   "outputs": [],
   "source": [
    "DTub = 5 # m\n",
    "LTub = 184 # m\n",
    "f = 0.04 \n",
    "Leq = 55 # m\n",
    "rhoAgua = 1000 # kg/m^3\n",
    "nuAgua = 1e-6 # viscosidad cinemática, m^2/s"
   ]
  },
  {
   "cell_type": "code",
   "execution_count": 19,
   "metadata": {},
   "outputs": [],
   "source": [
    "Nturb = 6 # número de grupos generadores"
   ]
  },
  {
   "cell_type": "code",
   "execution_count": 20,
   "metadata": {},
   "outputs": [
    {
     "name": "stdout",
     "output_type": "stream",
     "text": [
      "S = 19.63 m^2\n"
     ]
    }
   ],
   "source": [
    "STub = pi / 4 * DTub**2 # Sección de las tuberías de presión\n",
    "print('S = %.2f m^2' % STub)"
   ]
  },
  {
   "cell_type": "code",
   "execution_count": 23,
   "metadata": {},
   "outputs": [
    {
     "name": "stdout",
     "output_type": "stream",
     "text": [
      "Qturb = 102.50 m^3/s\n"
     ]
    }
   ],
   "source": [
    "QTurb = Q / Nturb # Consumo de agua por turbina\n",
    "print('Qturb = %.2f m^3/s' % QTurb)"
   ]
  },
  {
   "cell_type": "code",
   "execution_count": 25,
   "metadata": {},
   "outputs": [
    {
     "name": "stdout",
     "output_type": "stream",
     "text": [
      "Vtub = 5.22 m/s\n"
     ]
    }
   ],
   "source": [
    "VTub = QTurb / STub # Velocidad del flujo por las tuberías de presión\n",
    "print('Vtub = %.2f m/s' % VTub)"
   ]
  },
  {
   "cell_type": "markdown",
   "metadata": {},
   "source": [
    "#### Pérdidas en la alimentación \n",
    "\n",
    "El esquema muestra detalles de las pérdidas de cabezas piezométricas.\n",
    "\n",
    "<!--![Perdidas de Instalación](./esquemaCentral.png)\n",
    "\n",
    "<img src=\"./esquemaCentral.png\" width=\"400\" height=\"200\" />-->\n",
    "\n",
    "<img src=\"./esquemaCentral.png\" alt=\"drawing\" width=\"650\"/>"
   ]
  },
  {
   "cell_type": "markdown",
   "metadata": {},
   "source": [
    "Las pérdidas de carga en la tubería de presión se calculan a través de la ecuación de Darcy-Weisbach \n",
    "\n",
    "$$h_l = f \\frac{L}{D} \\frac{V^2}{2 g}$$"
   ]
  },
  {
   "cell_type": "code",
   "execution_count": 26,
   "metadata": {},
   "outputs": [
    {
     "name": "stdout",
     "output_type": "stream",
     "text": [
      "htub = 2.05 m\n"
     ]
    }
   ],
   "source": [
    "hTub = f * LTub / DTub * VTub**2 / (2*g)\n",
    "print('htub = %.2f m' % hTub)"
   ]
  },
  {
   "cell_type": "markdown",
   "metadata": {},
   "source": [
    "Las pérdidas totales son la suma de las pricipales y las secundarias. "
   ]
  },
  {
   "cell_type": "code",
   "execution_count": 47,
   "metadata": {},
   "outputs": [
    {
     "name": "stdout",
     "output_type": "stream",
     "text": [
      "hTot = 2.66 m\n"
     ]
    }
   ],
   "source": [
    "hSec = f * Leq / DTub * VTub**2 / (2*g)\n",
    "hTot = hTub + hSec # h4 + h6\n",
    "print('hTot = %.2f m' % hTot)"
   ]
  },
  {
   "cell_type": "markdown",
   "metadata": {},
   "source": [
    "El salto de turbina $H''$"
   ]
  },
  {
   "cell_type": "code",
   "execution_count": 29,
   "metadata": {},
   "outputs": [
    {
     "name": "stdout",
     "output_type": "stream",
     "text": [
      "Hn = 137.34 m\n"
     ]
    }
   ],
   "source": [
    "Hn = HBruto - hTot\n",
    "print('Hn = %.2f m' % Hn)"
   ]
  },
  {
   "cell_type": "markdown",
   "metadata": {},
   "source": [
    "La potencia hidráulica aprovechada en cada una de las seis turbinas,"
   ]
  },
  {
   "cell_type": "code",
   "execution_count": 30,
   "metadata": {},
   "outputs": [
    {
     "name": "stdout",
     "output_type": "stream",
     "text": [
      "PowHidroTurb = 138.06 MW\n"
     ]
    }
   ],
   "source": [
    "PowHidroTurb = rhoAgua * g * Hn * Qturb / 1e6\n",
    "print('PowHidroTurb = %.2f MW' % PowHidroTurb)"
   ]
  },
  {
   "cell_type": "markdown",
   "metadata": {},
   "source": [
    "El rendimiento mecánico de cada turbina,  "
   ]
  },
  {
   "cell_type": "code",
   "execution_count": 31,
   "metadata": {},
   "outputs": [
    {
     "name": "stdout",
     "output_type": "stream",
     "text": [
      "etaTurb = 90.54 %\n"
     ]
    }
   ],
   "source": [
    "etaMec = PowMec / Nturb / PowHidroTurb\n",
    "print('etaTurb = %.2f %%' % (etaMec * 100))"
   ]
  },
  {
   "cell_type": "markdown",
   "metadata": {},
   "source": [
    "El rendimiento de la generación, "
   ]
  },
  {
   "cell_type": "code",
   "execution_count": 32,
   "metadata": {},
   "outputs": [
    {
     "name": "stdout",
     "output_type": "stream",
     "text": [
      "etagen = 96.00 %\n"
     ]
    }
   ],
   "source": [
    "etaGen = PowGen / (PowMec / Nturb )\n",
    "print('etagen = %.2f %%' % (etaGen * 100))"
   ]
  },
  {
   "cell_type": "markdown",
   "metadata": {},
   "source": [
    "El rendimiento de la instalación es el producto de los rendimientos hidráulico y el eléctrico."
   ]
  },
  {
   "cell_type": "code",
   "execution_count": 33,
   "metadata": {},
   "outputs": [
    {
     "name": "stdout",
     "output_type": "stream",
     "text": [
      "etaInst = 86.92 %\n"
     ]
    }
   ],
   "source": [
    "etaInst = etaMec * etaGen\n",
    "print('etaInst = %.2f %%' % (etaMec * etaGen * 100))"
   ]
  },
  {
   "cell_type": "markdown",
   "metadata": {},
   "source": [
    "### Número de velocidad específica de las turbinas\n",
    "\n",
    "Número de revoluciones de las máquinas condicionado por las de los generadores y la frecuencia de red. El número de vieultas $$N_t = \\frac{60 f}{Z}$$ siendo $Z$ el número de pares de polos, $f$ la frecuencia de la red y $N_t$ las revoluciones del eje de turbina (con acoplamiento directo al generador) expresado en RPM.\n",
    "\n",
    "El tipo de turbina se define a través de la velocidad específica $n_s$ y el salto útil $H$, y la relación es,\n",
    "\n",
    "$$n_s = n_g \\frac{\\sqrt{N_t}}{H \\sqrt[4]{H}}\\tag{1}$$ \n",
    "\n",
    "estando $P_t$ en $CV$, $H$ en metros y $n_g$ en RPM.\n",
    "\n",
    "También se puede obtener a partir del reemplazo de $N_t = \\rho g H' Q$ , $\\rho g \\approx 10^4$ , $CV \\approx 0.75 kW$\n",
    "\n",
    "$$n_s = 3.65 \\,n_g \\frac{\\sqrt{Q}}{H^{3/4}}\\tag{2}$$ \n",
    "\n"
   ]
  },
  {
   "cell_type": "code",
   "execution_count": 39,
   "metadata": {},
   "outputs": [
    {
     "name": "stdout",
     "output_type": "stream",
     "text": [
      "n_gen = 187.5 rpm\n",
      "Expresión 1 : n_s = 171.1 rpm\n",
      "Expresión 2 : n_s = 172.7 rpm\n"
     ]
    }
   ],
   "source": [
    "Z = 16 # Número de pares de polos del generador\n",
    "fRed = 50 # Hz\n",
    "Nturb = 60 * fRed / Z\n",
    "print('n_gen = %.1f rpm' % Nturb)\n",
    "nSpec1 = Nturb * sqrt(PowHidroTurb * 1e3 / 0.750 ) / (Hn * pow(Hn,1/4))\n",
    "print('Expresión 1 : n_s = %.1f rpm' % nSpec1)\n",
    "nSpec2 = 3.65 * Nturb * sqrt(Qturb ) / (pow(Hn,0.75))\n",
    "print('Expresión 2 : n_s = %.1f rpm' % nSpec2)"
   ]
  },
  {
   "cell_type": "markdown",
   "metadata": {},
   "source": [
    "Del diagrama de selección encontramos que corresponde con una tipo Francis."
   ]
  },
  {
   "cell_type": "markdown",
   "metadata": {},
   "source": [
    "- Pelton con 1 inyector, 5 < ns < 30\n",
    "- Pelton con 2 o más inyectores, 30 < ns < 50\n",
    "- Francis lenta, 50 < ns < 100\n",
    "- Francis normal, 100 < ns < 200\n",
    "- Francis rápida, 200 < ns < 400\n",
    "- Kaplan, 500 < ns < 1000"
   ]
  },
  {
   "cell_type": "code",
   "execution_count": 42,
   "metadata": {},
   "outputs": [],
   "source": [
    "def turbineClass(ns):\n",
    "    if ns < 30 :\n",
    "        return \"Pelton (1 chorro)\"\n",
    "    if ns < 50 :\n",
    "        return \"Pelton (2 o más chorro)\"\n",
    "    if ns < 100 :\n",
    "        return \"Francis lenta\"\n",
    "    if ns < 200 :\n",
    "        return \"Francis normal\"\n",
    "    if ns < 400 :\n",
    "        return \"Francis rápida\"\n",
    "    if ns < 1000 :\n",
    "        return \"Kaplan\"\n",
    "    else:\n",
    "        return \"No clasificada\"\n",
    "    "
   ]
  },
  {
   "cell_type": "code",
   "execution_count": 46,
   "metadata": {},
   "outputs": [
    {
     "name": "stdout",
     "output_type": "stream",
     "text": [
      "Tipo de turbina = Francis normal\n"
     ]
    }
   ],
   "source": [
    "print('Tipo de turbina = %s' %  turbineClass(nSpec1))"
   ]
  },
  {
   "cell_type": "markdown",
   "metadata": {},
   "source": [
    "![Velocidades Específicas en función del salto H](./grafico-Velocidad-Especifica.png)"
   ]
  }
 ],
 "metadata": {
  "kernelspec": {
   "display_name": "Python 3",
   "language": "python",
   "name": "python3"
  },
  "language_info": {
   "codemirror_mode": {
    "name": "ipython",
    "version": 3
   },
   "file_extension": ".py",
   "mimetype": "text/x-python",
   "name": "python",
   "nbconvert_exporter": "python",
   "pygments_lexer": "ipython3",
   "version": "3.7.3"
  }
 },
 "nbformat": 4,
 "nbformat_minor": 4
}

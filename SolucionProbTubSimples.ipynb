{
 "cells": [
  {
   "cell_type": "markdown",
   "metadata": {},
   "source": [
    "## Cálculos de Pérdidas en Tuberias\n",
    "\n",
    "<h5>Gustavo Raush, 2019</h5>"
   ]
  },
  {
   "cell_type": "markdown",
   "metadata": {},
   "source": [
    "### Problemas simples de tuberias\n",
    "\n",
    "Hacen referencias a tubos o tuberias donde la fricción del fluido con las paredes de las mismas esla única pérdida. El fluido es tratado como incompresible y las variables implicadas son: $Q$, $L$, $D$, $h_f$, $\\nu$ y $\\epsilon$. Generalmente, los datos conocidos son la longitud desarrollada $L$ , las porpiedades del fluidos como la viscosidad cinemática $\\nu$ y la rugosidad de las paredes de las mismas $\\epsilon$. "
   ]
  },
  {
   "cell_type": "markdown",
   "metadata": {},
   "source": [
    "Los problemas simples de tuberias se pueden dividir en tres tipos:\n",
    "\n",
    "|Tipo|Dato|Incognita|\n",
    "|----|----|---------|\n",
    "|I|$Q$,$L$,$D$,$\\nu$,$\\epsilon$|$h_f$|\n",
    "|II|$h_f$,$L$,$D$,$\\nu$,$\\epsilon$|$Q$|\n",
    "|III|$h_f$,$Q$,$L$,$\\nu$,$\\epsilon$|$D$|"
   ]
  },
  {
   "cell_type": "markdown",
   "metadata": {},
   "source": [
    "Para cada situación se ocupa la ecuación de Darcy-Weisbach, DW, la ecuación de la continuidad de la masa y el diagrama de Moody. Estas tres relaciones permiten encontrar la cantidad desconocida de la columna 3 de la tabla de arriba.\n",
    "\n",
    "La Ecuación de DW, representa la relación de dos números adiemnsionales $f$, coeficiente de fricción y la relación de escala dimensional $L/D$ con la energía cinética que trae el del propio flujo $V^2/2g$, \n",
    "\n",
    "$$h_f = f \\frac{L}{D} \\frac{V^2}{2g}$$"
   ]
  },
  {
   "cell_type": "markdown",
   "metadata": {},
   "source": [
    "A través del diagrama de Moody el coeficiente de fricción $f$ queda relacionado con el número de $\\mathbf{Re}$ y parametrizado con la rugosidad adimensionalizada en el diámetro $\\epsilon_r = \\epsilon/D$ \n",
    "\n",
    "La mejor expresión que describe este conjunto de datos experimentales es la expresión de Colebrook,\n",
    "\n",
    "$$\\begin{array}{lcr}\\frac{1}{\\sqrt{f}} = - 2 \\log_{10}\\left( \\frac{\\epsilon}{3.7D} + \\frac{2.51}{\\mathbf{Re}\\sqrt{f}}\\right) & ; & 4000\\le\\mathbf{Re} \\end{array}$$\n",
    "\n",
    "Observamos que la misma tiene un caracter implícito en $f$.  Esto significa que no se puede resolver sin el auxilio de métodos numéricos. \n",
    "\n",
    "Pero existen relaciones explícitas para el calculo del coeficiente de fricción $f$ basado en una aproximación explícita sin cometer mayores errores al $1\\%$. Esto tiene un rango de valides. \n",
    "\n",
    "|  | Restricciones |\n",
    "|--|--|\n",
    "|$f = \\frac{1.325}{\\left[ \\ln \\left( \\frac{\\epsilon}{3.7D} + \\frac{5.74}{\\mathbf{Re}^{0.9}}\\right) \\right]^2}$ | \\begin{array}{ll} 10^{-6}\\le\\frac{\\epsilon}{D}\\le 10^{-2};\\\\ 5000\\le\\mathbf{Re}\\le 10^8 \\end{array}|"
   ]
  },
  {
   "cell_type": "markdown",
   "metadata": {},
   "source": [
    "Antes de proceder con los ejemplos de solución se crean funciones de cálculo que facilitan y agilizan las ejemplificaciones. \n",
    "\n",
    "<h4>Definición de Funciones e Importación de Constantes</h4>\n",
    "\n",
    "Las siguientes instrucciones ayudan a simplificar los calculo porque solamente se usaranc omo funciones de trabajo. De la misma manera importamos constantes  $\\pi$ o la aceleración de la gravedad $g$."
   ]
  },
  {
   "cell_type": "code",
   "execution_count": 78,
   "metadata": {},
   "outputs": [],
   "source": [
    "from math import pi, sqrt, log10\n",
    "from scipy.constants import g\n",
    "def area(d):\n",
    "    return pi / 4 * d**2\n",
    "def ReQ(Q,D,nu):\n",
    "    return 4 * Q / pi / D / nu\n",
    "def ReV(V,D,nu):\n",
    "    return V * D / nu\n",
    "def velocidad(Q,D):\n",
    "    return pi / 4 * D^2 * Q  \n",
    "def DarcyWeisbach(f,L,D,V):\n",
    "    return f * L / D * V**2 / 2 / g\n",
    "def SwameeJainEq(D,eps,Re):\n",
    "    return 0.25 / (log10((eps / D) / 3.7 + 5.74 / Re**0.9))**2"
   ]
  },
  {
   "cell_type": "markdown",
   "metadata": {},
   "source": [
    "### Caso de Solución de Tipo I: Pérdida de Carga\n",
    "\n",
    "Son conocidos $Q$, $D$, $L$, $\\epsilon$ y el número de Reynolds expresados en términos del caudal $\\mathbf{Re} = VD/\\nu = 4Q/\\pi D\\nu$.\n",
    "El objetivo es la solución directa de la ecuación de Darcy-Weisbach"
   ]
  },
  {
   "cell_type": "markdown",
   "metadata": {},
   "source": [
    "> Ejemplo Tipo I: Determinar las pérdidas de cabeza piezométrica $h_f$ para el caso de un flujo de caudal $Q = 150\\, L/s$ de agua $\\nu = 10^{-6}\\, m^2/s$ a través de una tubería de $L = 1500\\, m$ de tubería de acero de $D = 250 \\,mm$.\n",
    "La rugosidad de una tubería de  acero tiene una rugosidad $\\epsilon = 1.5\\mu m$"
   ]
  },
  {
   "cell_type": "code",
   "execution_count": 79,
   "metadata": {},
   "outputs": [
    {
     "name": "stdout",
     "output_type": "stream",
     "text": [
      "Re = 763944\n"
     ]
    }
   ],
   "source": [
    "Q = 0.15 # m^3/s\n",
    "nu = 1.e-6 # m^2/s\n",
    "D = 0.25 # m\n",
    "L = 1500 # m\n",
    "epsilon = 1.5e-6 # m\n",
    "ReNum = ReQ(Q,D,nu)\n",
    "print('Re = %2.0f' % ReNum)"
   ]
  },
  {
   "cell_type": "markdown",
   "metadata": {},
   "source": [
    "El valor es de un flujo totalmente turbulento, por lo que calculamos el valor de $f$ usando la ecuación de _Swamee–Jain_ "
   ]
  },
  {
   "cell_type": "code",
   "execution_count": 17,
   "metadata": {},
   "outputs": [
    {
     "name": "stdout",
     "output_type": "stream",
     "text": [
      "f = 0.0123\n"
     ]
    }
   ],
   "source": [
    "f = SwameeJainEq(D,epsilon,ReNum)\n",
    "print('f = %.4f' % f)"
   ]
  },
  {
   "cell_type": "markdown",
   "metadata": {},
   "source": [
    "Similar valor lo podemos encontrar usando el Diagrama de Moody. Tambien resolviendo la ecuación de Colebrook usando herramientas numéricas. "
   ]
  },
  {
   "cell_type": "markdown",
   "metadata": {},
   "source": [
    "<h4>Pérdida de carga</h4>\n",
    "\n",
    "La velocidad del flujo es"
   ]
  },
  {
   "cell_type": "code",
   "execution_count": 65,
   "metadata": {},
   "outputs": [
    {
     "name": "stdout",
     "output_type": "stream",
     "text": [
      "V = 3.06 m/s\n"
     ]
    }
   ],
   "source": [
    "V = Q / area(D)\n",
    "print('V = %.2f m/s' % V)"
   ]
  },
  {
   "cell_type": "markdown",
   "metadata": {},
   "source": [
    "La pérdida será,"
   ]
  },
  {
   "cell_type": "code",
   "execution_count": 71,
   "metadata": {},
   "outputs": [
    {
     "name": "stdout",
     "output_type": "stream",
     "text": [
      "hf = 35.07 m\n"
     ]
    }
   ],
   "source": [
    "hf = f * (L / D) * V**2 / 2 / g\n",
    "print('hf = %.2f m' % hf)"
   ]
  },
  {
   "cell_type": "markdown",
   "metadata": {},
   "source": [
    "El equivalente de la **pérdida de carga o cabeza** en términos de presión expresada en **Pa** es,"
   ]
  },
  {
   "cell_type": "code",
   "execution_count": 74,
   "metadata": {},
   "outputs": [
    {
     "name": "stdout",
     "output_type": "stream",
     "text": [
      "p = 343959.16 Pa\n"
     ]
    }
   ],
   "source": [
    "rho = 1000 # kg/m^3\n",
    "phf = g * rho * hf\n",
    "print('p = %.2f Pa' % phf)"
   ]
  },
  {
   "cell_type": "markdown",
   "metadata": {},
   "source": [
    "<h3>Error entre la Ecuación de S-J y Colebrook</h3>"
   ]
  },
  {
   "cell_type": "markdown",
   "metadata": {},
   "source": [
    "La rugosidad relativa $\\epsilon/D$ es,"
   ]
  },
  {
   "cell_type": "code",
   "execution_count": 47,
   "metadata": {},
   "outputs": [
    {
     "name": "stdout",
     "output_type": "stream",
     "text": [
      "er = 6.0e-06\n"
     ]
    }
   ],
   "source": [
    "erNum = epsilon/D\n",
    "print('er = %.1e' % erNum)"
   ]
  },
  {
   "cell_type": "markdown",
   "metadata": {},
   "source": [
    "Las siguientes líneas nos permiten calcular el valor de $f$ directamente de una expresión modificada de la Ecuación de Colebrook que permite calcular el valor de $\\sqrt{f}$"
   ]
  },
  {
   "cell_type": "code",
   "execution_count": 48,
   "metadata": {},
   "outputs": [],
   "source": [
    "def fMoody(x,er,nre):\n",
    "    return 1 + 2 * x * log10(er / 3.7 + 2.51 / nre / x)"
   ]
  },
  {
   "cell_type": "code",
   "execution_count": 49,
   "metadata": {},
   "outputs": [],
   "source": [
    "fMoodyToSolve = lambda x : fMoody(x,er=erNum,nre=ReNum) "
   ]
  },
  {
   "cell_type": "code",
   "execution_count": 50,
   "metadata": {},
   "outputs": [],
   "source": [
    "from scipy.optimize import fsolve"
   ]
  },
  {
   "cell_type": "code",
   "execution_count": 52,
   "metadata": {},
   "outputs": [
    {
     "name": "stdout",
     "output_type": "stream",
     "text": [
      "f = 0.0123\n"
     ]
    }
   ],
   "source": [
    "fM = fsolve(fMoodyToSolve,0.01)[0]**2\n",
    "print('f = %.4f' % fM)"
   ]
  },
  {
   "cell_type": "markdown",
   "metadata": {},
   "source": [
    "El error comentido entre la Ecuación de SJ (aproximada) y la de Colebrook es,"
   ]
  },
  {
   "cell_type": "code",
   "execution_count": 62,
   "metadata": {},
   "outputs": [
    {
     "name": "stdout",
     "output_type": "stream",
     "text": [
      "Err = -0.30%\n"
     ]
    }
   ],
   "source": [
    "Err = (f - fM)/fM * 100\n",
    "print('Err = %.2f%%' % Err)"
   ]
  },
  {
   "cell_type": "markdown",
   "metadata": {},
   "source": [
    "El error es menor al 1%"
   ]
  },
  {
   "cell_type": "markdown",
   "metadata": {},
   "source": [
    "### Caso de Solución de Tipo II: Cálculo de la Descarga Q\n",
    "\n",
    "Son conocidos $h_f$, $D$, $L$, $\\epsilon$ y el objetivo es el caudal $Q$\n",
    "\n",
    "En este caso , la $V$ y $f$ son desconocido por lo que se tienen que usar las ecuacione de Darcy y Moody simultaneamente. Como se conoce $\\epsilon/D$ se puede asumir un primer valor de $f$ con tal de conocer un valor aproximado de $V$ a través de Darcy. Esto mejora el valor de $\\mathbf{Re}$ que permite mejorar el valor inicial de $f$ y repetir el cálculo a través de la iteración del mismo. \n",
    "\n",
    "> Ejemplo Tipo II: un sistema de tubería que transporta agua fluye a través de un tubo de acero con rugosidad $\\epsilon = 0.01\\, mm$ de diámetro $D = 100\\, mm$ con una pérdida de carga $h_f = 6\\, m$ y una longitud $L = 500\\, m$\n"
   ]
  },
  {
   "cell_type": "code",
   "execution_count": 76,
   "metadata": {},
   "outputs": [],
   "source": [
    "L = 500 # m\n",
    "D = 0.1 # m\n",
    "hf = 6 # m\n",
    "eps = 0.01e-3 # m\n",
    "rho = 1000 # kg/m^3\n",
    "nu = 1e-6 # m^2/s"
   ]
  },
  {
   "cell_type": "markdown",
   "metadata": {},
   "source": [
    "Darcy permite calcular la velocidad, $$h_f = f \\frac{L}{D} \\frac{V^2}{2g}$$ y la misma vale $$V = \\sqrt{2g\\frac{D}{f L} h_f}$$"
   ]
  },
  {
   "cell_type": "markdown",
   "metadata": {},
   "source": [
    "Se adopta un valor de prueba $f = 0.02$ y se obtiene un valor de $V$"
   ]
  },
  {
   "cell_type": "code",
   "execution_count": 77,
   "metadata": {},
   "outputs": [
    {
     "name": "stdout",
     "output_type": "stream",
     "text": [
      "V = 1.08 m/s\n"
     ]
    }
   ],
   "source": [
    "f = 0.02\n",
    "V = sqrt(2 * g * D / f / L * hf)\n",
    "print('V = %.2f m/s' % V)"
   ]
  },
  {
   "cell_type": "markdown",
   "metadata": {},
   "source": [
    "Correspondiente con un Reynolds, $\\mathbf{Re} = VD/\\nu$,"
   ]
  },
  {
   "cell_type": "code",
   "execution_count": 83,
   "metadata": {},
   "outputs": [
    {
     "name": "stdout",
     "output_type": "stream",
     "text": [
      "Re = 271201\n"
     ]
    }
   ],
   "source": [
    "ReNum = ReV(D=D,V=V,nu=nu)\n",
    "print('Re = %.0f' % ReNum)"
   ]
  },
  {
   "cell_type": "markdown",
   "metadata": {},
   "source": [
    "Flujo de régimen totalmente turbulento. La primera aproximación del valor del caudal $Q$,"
   ]
  },
  {
   "cell_type": "code",
   "execution_count": 84,
   "metadata": {},
   "outputs": [
    {
     "name": "stdout",
     "output_type": "stream",
     "text": [
      "Q = 0.053 m^3/s\n"
     ]
    }
   ],
   "source": [
    "Q = V * area(D)\n",
    "print('Q = %.3f m^3/s' % Q)"
   ]
  },
  {
   "cell_type": "markdown",
   "metadata": {},
   "source": [
    "Con el nuevo valor de $\\mathbf{Re} = 271201$ y $\\epsilon/D$ se mejora el $f$ usando Moody"
   ]
  },
  {
   "cell_type": "code",
   "execution_count": 86,
   "metadata": {},
   "outputs": [
    {
     "name": "stdout",
     "output_type": "stream",
     "text": [
      "f = 0.015\n"
     ]
    }
   ],
   "source": [
    "f = SwameeJainEq(eps=eps,D=D,Re=ReNum)\n",
    "print('f = %.3f' % f)"
   ]
  },
  {
   "cell_type": "markdown",
   "metadata": {},
   "source": [
    "Mejorando $V$ y $\\mathbf{Re}$"
   ]
  },
  {
   "cell_type": "code",
   "execution_count": 87,
   "metadata": {},
   "outputs": [
    {
     "name": "stdout",
     "output_type": "stream",
     "text": [
      "V = 1.14 m/s\n"
     ]
    }
   ],
   "source": [
    "V = sqrt(2 * g * D / f / L * hf)\n",
    "print('V = %.2f m/s' % V)"
   ]
  },
  {
   "cell_type": "code",
   "execution_count": 88,
   "metadata": {},
   "outputs": [
    {
     "name": "stdout",
     "output_type": "stream",
     "text": [
      "Re = 285122\n"
     ]
    }
   ],
   "source": [
    "ReNum = ReV(D=D,V=V,nu=nu)\n",
    "print('Re = %.0f' % ReNum)"
   ]
  },
  {
   "cell_type": "code",
   "execution_count": 89,
   "metadata": {},
   "outputs": [
    {
     "name": "stdout",
     "output_type": "stream",
     "text": [
      "Q = 0.056 m^3/s\n"
     ]
    }
   ],
   "source": [
    "Q = V * area(D)\n",
    "print('Q = %.3f m^3/s' % Q)"
   ]
  },
  {
   "cell_type": "markdown",
   "metadata": {},
   "source": [
    "Este método se puede integrar dentro de un algoritmo de iteración."
   ]
  },
  {
   "cell_type": "code",
   "execution_count": 158,
   "metadata": {},
   "outputs": [],
   "source": [
    "def QFlow(hf,L,D,eps,nu,pre=4):\n",
    "    err = 1 # precision de calculo\n",
    "    fOld = 0.02 # valor inicial de semilla\n",
    "    i = 0 # iteraciones\n",
    "    while (abs(err) > 10**(-pre) and i < 10):\n",
    "        V = sqrt(2 * g * D / fOld / L * hf)\n",
    "        Re = ReV(V=V,D=D,nu=nu)\n",
    "        fNew = SwameeJainEq(Re=Re,D=D,eps=eps)\n",
    "        err = fNew - fOld\n",
    "        fOld = fNew\n",
    "        i += 1\n",
    "        #print(abs(err),fOld,i)\n",
    "    Q = V * area(D)\n",
    "    return Q,i\n",
    "        "
   ]
  },
  {
   "cell_type": "markdown",
   "metadata": {},
   "source": [
    "La funcion ```QFlow``` devuelve el valor de $Q$ y el nñúmnero de iteraciones necesarias para llegar a una precisión de 3 decimales."
   ]
  },
  {
   "cell_type": "code",
   "execution_count": 159,
   "metadata": {},
   "outputs": [
    {
     "data": {
      "text/plain": [
       "(0.05618173546046294, 3)"
      ]
     },
     "execution_count": 159,
     "metadata": {},
     "output_type": "execute_result"
    }
   ],
   "source": [
    "QFlow(hf=hf,L=L,D=D,eps=eps,nu=nu)"
   ]
  },
  {
   "cell_type": "markdown",
   "metadata": {},
   "source": [
    "Con 2 iteraciones ya se consigue una aproximación de una milésima. "
   ]
  },
  {
   "cell_type": "code",
   "execution_count": 160,
   "metadata": {},
   "outputs": [
    {
     "name": "stdout",
     "output_type": "stream",
     "text": [
      "Qaprox = 0.0562 m^3/s\n"
     ]
    }
   ],
   "source": [
    "Qaprox = QFlow(hf=hf,L=L,D=D,eps=eps,nu=nu,pre=5)[0]\n",
    "print('Qaprox = %.4f m^3/s' % Qaprox)\n"
   ]
  },
  {
   "cell_type": "markdown",
   "metadata": {},
   "source": [
    "De la misma manera vemos que para el caso de 5 decimales, solo basta un total de 4 iteraciones. \n",
    "\n",
    "<b>Conclusiones</b>: Se pueden conseguir resultados muy precisos con muy pocas iteraciones."
   ]
  },
  {
   "cell_type": "markdown",
   "metadata": {},
   "source": [
    "<h3>Solución \"Exacta\" de $Q$</h3>"
   ]
  },
  {
   "cell_type": "markdown",
   "metadata": {},
   "source": [
    "Existe la posibilidad de obtener un nuevo nñumero adimensional $f\\mathbf{Re}^2$ que al ser reemplazado en la ecuación de Colebrook permite ontener el valor exacto de $1/\\sqrt{f}$. Este nuevo valor puede ser incluido en la expresión de $$Q = \\frac{\\pi}{2}  \\sqrt{\\frac{D^5 g h_f}{2 f L}}$$"
   ]
  },
  {
   "cell_type": "markdown",
   "metadata": {},
   "source": [
    "Valor exacto de $Q$, con la precisión que permite la Ecuación de Colebrook.   \n",
    "$$Q = -\\frac{0.96476 D^{5/2} \\sqrt{g} \\sqrt{h_f} \\log \\left(\\frac{1.79605 \\sqrt{L}\n",
    "   \\nu }{D^{3/2} \\sqrt{g} \\sqrt{h_f}}+0.27027 \\epsilon_r\\right)}{\\sqrt{L}}$$"
   ]
  },
  {
   "cell_type": "code",
   "execution_count": 111,
   "metadata": {},
   "outputs": [],
   "source": [
    "from math import log\n",
    "def QExact(hf,L,D,eps,nu):\n",
    "    hL = hf\n",
    "    Nu = nu\n",
    "    er = eps/D\n",
    "    C1 = -0.9647597718921425\n",
    "    C2 = 0.27027027027027023\n",
    "    C3 = 1.7960512242138307\n",
    "    return (C1 * D**2.5 * sqrt(g) * sqrt(hL) * log(C2 * er + (C3*sqrt(L)*Nu) / \n",
    "                                                   (D**1.5 * sqrt(g) * sqrt(hL))))/sqrt(L)"
   ]
  },
  {
   "cell_type": "code",
   "execution_count": 121,
   "metadata": {},
   "outputs": [
    {
     "name": "stdout",
     "output_type": "stream",
     "text": [
      "Qexc = 0.0561 m^3/s\n"
     ]
    }
   ],
   "source": [
    "Qexact = QExact(hf=hf,L=L,D=D,eps=eps,nu=nu)\n",
    "print('Qexc = %.4f m^3/s' % Qexact)"
   ]
  },
  {
   "cell_type": "markdown",
   "metadata": {},
   "source": [
    "Error cometido entre $Q_{exact}$ y $Q_{aprox}$"
   ]
  },
  {
   "cell_type": "code",
   "execution_count": 115,
   "metadata": {},
   "outputs": [
    {
     "name": "stdout",
     "output_type": "stream",
     "text": [
      "Err = 0.27 %\n"
     ]
    }
   ],
   "source": [
    "Err = (Qaprox - Qexact)/Qexact * 100\n",
    "print('Err = %.2f %%' % Err )"
   ]
  },
  {
   "cell_type": "code",
   "execution_count": null,
   "metadata": {},
   "outputs": [],
   "source": []
  },
  {
   "cell_type": "markdown",
   "metadata": {},
   "source": [
    "La expresión de $Q$, anteriormente presentada, puede ser evaluada con el siguiente algoritmo:\n",
    "\n",
    "<!-- ~~puede quedar resumido en el siguiente procedimiento:~~ -->\n",
    "\n",
    ">1. $C_1 = \\frac{2 g h_f D^3}{L \\nu^2}$ \n",
    ">2. $C_2 = -2 \\log_{10}\\left( \\frac{\\epsilon/D}{3.7} + \\frac{2.51}{\\sqrt{C_1}}\\right)$\n",
    ">3. $f = \\frac{1}{C_2^2}$\n",
    ">4. $Q = \\frac{\\pi}{2} \\sqrt{g h_f D^5}{2 f L}$"
   ]
  },
  {
   "cell_type": "markdown",
   "metadata": {},
   "source": [
    "Implementación del algoritmo:"
   ]
  },
  {
   "cell_type": "code",
   "execution_count": 116,
   "metadata": {},
   "outputs": [],
   "source": [
    "def QexactAlg(hf,L,D,eps,nu):\n",
    "    er = eps/D\n",
    "    fR2 = (2 * D**3 * g * hf)/(L * nu**2)\n",
    "    sqF = - 2 * log10(er / 3.7 + 2.51 / sqrt(fR2))\n",
    "    f = 1 / sqF**2\n",
    "    Q = pi / 2 * sqrt( g * hf * D**5 / 2 / f / L)\n",
    "    return Q"
   ]
  },
  {
   "cell_type": "code",
   "execution_count": 120,
   "metadata": {},
   "outputs": [
    {
     "name": "stdout",
     "output_type": "stream",
     "text": [
      "Qexc = 0.0561 m^3/s\n"
     ]
    }
   ],
   "source": [
    "Qexact2 = QexactAlg(hf=hf,L=L,D=D,eps=eps,nu=nu)\n",
    "print('Qexc = %.4f m^3/s' % Qexact2)"
   ]
  },
  {
   "cell_type": "code",
   "execution_count": null,
   "metadata": {},
   "outputs": [],
   "source": []
  },
  {
   "cell_type": "markdown",
   "metadata": {},
   "source": [
    "### Caso de Solución de Tipo III: Cálculo del Diámetro $D$\n",
    "\n",
    "Son conocidos $h_f$, $Q$, $L$, $\\epsilon$ y el objetivo es el dimensionado de la tubería  $D$\n",
    "\n",
    "En este caso, hay tres incógnitas en las ecuacion de Darcy , la $f$, $V$ y $D$, dos incognitas en la ecuación de la continuidad $V$ y $D$ y tres en la ecuación del número de Reynolds $V$, $D$ y $\\mathbf{Re}$. Por si fuera poco , la rugosidad relativa $\\epsilon/D$ tampoco es conocida porque, aún conociendo el material $\\epsilon$, se desconoce $D$.\n",
    "\n",
    "<!-- son desconocido por lo que se tienen que usar las ecuacione de Darcy y Moody simultaneamente. Como se conoce $\\epsilon/D$ se puede asumir un primer valor de $f$ con tal de conocer un valor aproximado de $V$ a través de Darcy. Esto mejora el valor de $\\mathbf{Re}$ que permite mejorar el valor inicial de $f$ y repetir el cálculo a través de la iteración del mismo. \n",
    "\n",
    "> Ejemplo Tipo II: un sistema de tubería que transporta agua fluye a través de un tubo de acero con rugosidad $\\epsilon = 0.01\\, mm$ de diámetro $D = 100\\, mm$ con una pérdida de carga $h_f = 6\\, m$ y una longitud $L = 500\\, m$-->\n"
   ]
  },
  {
   "cell_type": "markdown",
   "metadata": {},
   "source": [
    "La Ecuación de Darcy para el caudal: $$h_f = f \\frac{L}{D} \\frac{Q^2}{2 g \\left(D^2 \\pi / 4\\right)^2} = \\frac{8 f L Q^2}{\\pi ^2 D^5 g}$$\n",
    "\n",
    "Despejando $$D^5 = \\frac{8 L Q^2}{\\pi^2 h_f g } f = C_1 f$$ Siendo $C_1 = \\frac{8 L Q^2}{\\pi^2 h_f g }$\n",
    "\n",
    "Con ello se puede hacer una estimación del Reynolds, $$\\mathbf{Re} = \\frac{4 Q}{\\pi \\nu} \\frac{1}{D} = \\frac{C_2}{D}$$ Siendo $C_2 = \\frac{4 Q}{\\pi \\nu}$"
   ]
  },
  {
   "cell_type": "markdown",
   "metadata": {},
   "source": [
    "A partir de los valores de las constantes $C_1$ y $C_2$ ejecutar el algoritmo siguiente:\n",
    "\n",
    "\n",
    ">1. Suponemos valor de $f = 0.02$\n",
    ">2. Resolvemos $D^5 = C_1 f$\n",
    ">3. Calculamos el valor de $\\mathbf{Re} = \\frac{C2}{D}$\n",
    ">4. Encontrar la rugosidad relativa $\\epsilon/D$\n",
    ">5. Con $\\mathbf{Re}$ y  $\\epsilon/D$ , usar Moody para calcular $f_{new}$ nuevo\n",
    ">6. Utilizando $f_{new}$ repetir calculo desde el paso (2)\n",
    ">7. Detener el cálculo cuando $f$ ya no cambie. Se puede dar por bueno el valor de $D$"
   ]
  },
  {
   "cell_type": "markdown",
   "metadata": {},
   "source": [
    "Aplicaremos el procemiento descrito al siguiente caso práctico:\n",
    "\n",
    "> Ejemplo Tipo III: determine la medida de un tubo de hierro colado $\\epsilon = 0.045\\,mm$ necesario para la conducción de  $4\\,m³/s$ de aceite $\\nu = 0.01 m²/s$. El sistema tienen una longitud de 100 m y se desea una pérdida de carga de 0.1 m/m.\n",
    "<!-- un sistema de tubería que transporta agua fluye a través de un tubo de acero con rugosidad $\\epsilon = 0.01\\, mm$ de diámetro $D = 100\\, mm$ con una pérdida de carga $h_f = 6\\, m$ y una longitud $L = 500\\, m$-->\n"
   ]
  },
  {
   "cell_type": "code",
   "execution_count": 204,
   "metadata": {},
   "outputs": [],
   "source": [
    "from math import pow # importación de la función para la raiz quinta"
   ]
  },
  {
   "cell_type": "code",
   "execution_count": 205,
   "metadata": {},
   "outputs": [],
   "source": [
    "def DDesign(Q,hf,L,eps,nu):\n",
    "    fOld = 0.02\n",
    "    C1 = (8 * L * Q**2)/(pi**2 * g* hf )\n",
    "    C2 = (4 * Q)/(pi * nu)\n",
    "    i = 0\n",
    "    err = 1\n",
    "    while (abs(err > 0.001) and i < 10):\n",
    "        D5 = C1 * fOld\n",
    "        Dnew = pow(D5,1/5)\n",
    "        ReNew = C2 / D\n",
    "        errNew = eps/D\n",
    "        fNew = SwameeJainEq(Re=ReNew,D=Dnew,eps=eps)\n",
    "        err = fNew - fOld\n",
    "        fOld = fNew\n",
    "        i += 1\n",
    "    return Dnew,i\n",
    "        "
   ]
  },
  {
   "cell_type": "code",
   "execution_count": 202,
   "metadata": {},
   "outputs": [],
   "source": [
    "Q = 4 # m³/s\n",
    "L = 100 # m\n",
    "hf = 0.1 * L # m\n",
    "nu = 0.01 # m²/s\n",
    "eps = 0.045e-3 # m"
   ]
  },
  {
   "cell_type": "code",
   "execution_count": 203,
   "metadata": {},
   "outputs": [
    {
     "data": {
      "text/plain": [
       "(0.9235819053267553, 2)"
      ]
     },
     "execution_count": 203,
     "metadata": {},
     "output_type": "execute_result"
    }
   ],
   "source": [
    "DDesign(Q=Q,hf=hf,L=L,eps=45e-6,nu=nu)"
   ]
  },
  {
   "cell_type": "markdown",
   "metadata": {},
   "source": [
    "La solución se consigue con muy pocas iteraciones. "
   ]
  },
  {
   "cell_type": "markdown",
   "metadata": {},
   "source": [
    "\n",
    "La solución se puede dar como $D = 0.923 \\,mm$"
   ]
  },
  {
   "cell_type": "code",
   "execution_count": null,
   "metadata": {},
   "outputs": [],
   "source": []
  }
 ],
 "metadata": {
  "kernelspec": {
   "display_name": "Python 3",
   "language": "python",
   "name": "python3"
  },
  "language_info": {
   "codemirror_mode": {
    "name": "ipython",
    "version": 3
   },
   "file_extension": ".py",
   "mimetype": "text/x-python",
   "name": "python",
   "nbconvert_exporter": "python",
   "pygments_lexer": "ipython3",
   "version": "3.7.3"
  }
 },
 "nbformat": 4,
 "nbformat_minor": 4
}
